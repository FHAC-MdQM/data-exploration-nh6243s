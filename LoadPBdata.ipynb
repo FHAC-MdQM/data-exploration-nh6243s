{
 "cells": [
  {
   "cell_type": "markdown",
   "metadata": {},
   "source": [
    "# Loading and exploring spring parking brake data"
   ]
  },
  {
   "cell_type": "markdown",
   "metadata": {},
   "source": [
    "## Systembeschreibung\n",
    "\n",
    "Das zu betrachtende System ist ein Federspeicherbremszylinder, also ein Bremszylinder, der ohne angelegten Luftdruck die Bremse anlegt. Abhängig von der Federspeicherkraft kann das Fahrzeug (bspw. eine Lokomotive mit vier Federspeichern pro Fahrzeug) im Gefälle stationär gehalten werden oder nicht.\n",
    "\n",
    "Die 24 Federn pro Zylinder verhalten sich näherungsweise linear, weisen jedoch eine recht große Streuung der Federrate auf. Sie sind zusammen mit einigen geometrischen Größen für die Kraft verantwortlich:\n",
    "\n",
    "- Force/N: gemessene Kraft des Federspeichers\n",
    "- Deviation $d$/mm: Abweichung der Dicke des Kolben (Abweichung nach unten: weniger Kraft)\n",
    "- Deviation $h_{1}$/mm: Abweichung der Lage der Bohrung des Hammerheads (Abweichung nach unten: weniger Kraft)\n",
    "- Deviation $h_{2}$/mm: Abweichung der Lage der Bohrung des Hammerheads (Abweichung nach unten: weniger Kraft)\n",
    "- Dev. $l$/mm: Abweichung der Länge der Kolbenstange (Abweichung nach unten: weniger Kraft)\n",
    "\n",
    "Zusätzlich haben die Daten noch Datum und Zeit der Messung.\n",
    "\n",
    "## Aufgabe\n",
    "\n",
    "Nach dem Auftreten eines Fehlers im Feld (Fahrzeug bricht trotz angelegtem Federspeicher los, Mindestkraft von 18 kN unterschritten) bekommt ihr aus der Produktion eures Unternehmens die Messdaten aus einer Schicht.\n",
    "\n",
    "Analysiert die Daten und beantwortet die Fragestellungen: \n",
    "\n",
    "- Handelt es sich um ein systematisches Problem?\n",
    "- Wie viele Einheiten sind betroffen?\n",
    "- Lässt sich das Problem auf einzelne Maße eingrenzen?"
   ]
  },
  {
   "cell_type": "code",
   "execution_count": 1,
   "metadata": {},
   "outputs": [],
   "source": [
    "# OS to use file system 1\n",
    "import os\n",
    "# Matplotlib and the pyplot module for a Matlab-like plot syntax\n",
    "import matplotlib\n",
    "# This is the syntax to import as a named module\n",
    "import matplotlib.pyplot as plt\n",
    "# Pandas is a module for rectangular data \"dataframe\"\n",
    "import pandas as pd\n",
    "# Special module for a very quick analysis\n",
    "from pandas.plotting import scatter_matrix\n",
    "# Plot the graphs in the notebook\n",
    "%matplotlib inline"
   ]
  },
  {
   "cell_type": "markdown",
   "metadata": {},
   "source": [
    "## Data import"
   ]
  },
  {
   "cell_type": "code",
   "execution_count": 2,
   "metadata": {},
   "outputs": [
    {
     "data": {
      "text/html": [
       "<div>\n",
       "<style scoped>\n",
       "    .dataframe tbody tr th:only-of-type {\n",
       "        vertical-align: middle;\n",
       "    }\n",
       "\n",
       "    .dataframe tbody tr th {\n",
       "        vertical-align: top;\n",
       "    }\n",
       "\n",
       "    .dataframe thead th {\n",
       "        text-align: right;\n",
       "    }\n",
       "</style>\n",
       "<table border=\"1\" class=\"dataframe\">\n",
       "  <thead>\n",
       "    <tr style=\"text-align: right;\">\n",
       "      <th></th>\n",
       "      <th>Time</th>\n",
       "      <th>F</th>\n",
       "      <th>d</th>\n",
       "      <th>h1</th>\n",
       "      <th>h2</th>\n",
       "      <th>l</th>\n",
       "    </tr>\n",
       "  </thead>\n",
       "  <tbody>\n",
       "    <tr>\n",
       "      <th>0</th>\n",
       "      <td>2022-10-26 07:30:00</td>\n",
       "      <td>18905.806965</td>\n",
       "      <td>0.005124</td>\n",
       "      <td>-0.047404</td>\n",
       "      <td>-0.031544</td>\n",
       "      <td>0.015860</td>\n",
       "    </tr>\n",
       "    <tr>\n",
       "      <th>1</th>\n",
       "      <td>2022-10-26 07:32:00</td>\n",
       "      <td>20026.385396</td>\n",
       "      <td>0.048496</td>\n",
       "      <td>0.008175</td>\n",
       "      <td>-0.014790</td>\n",
       "      <td>-0.022965</td>\n",
       "    </tr>\n",
       "    <tr>\n",
       "      <th>2</th>\n",
       "      <td>2022-10-26 07:34:00</td>\n",
       "      <td>19874.917201</td>\n",
       "      <td>-0.013561</td>\n",
       "      <td>0.046190</td>\n",
       "      <td>0.001044</td>\n",
       "      <td>-0.045146</td>\n",
       "    </tr>\n",
       "    <tr>\n",
       "      <th>3</th>\n",
       "      <td>2022-10-26 07:36:00</td>\n",
       "      <td>18058.438190</td>\n",
       "      <td>0.048965</td>\n",
       "      <td>-0.026648</td>\n",
       "      <td>-0.072617</td>\n",
       "      <td>-0.045969</td>\n",
       "    </tr>\n",
       "    <tr>\n",
       "      <th>4</th>\n",
       "      <td>2022-10-26 07:38:00</td>\n",
       "      <td>18187.872511</td>\n",
       "      <td>0.034729</td>\n",
       "      <td>-0.017012</td>\n",
       "      <td>-0.063248</td>\n",
       "      <td>-0.046235</td>\n",
       "    </tr>\n",
       "  </tbody>\n",
       "</table>\n",
       "</div>"
      ],
      "text/plain": [
       "                  Time             F         d        h1        h2         l\n",
       "0  2022-10-26 07:30:00  18905.806965  0.005124 -0.047404 -0.031544  0.015860\n",
       "1  2022-10-26 07:32:00  20026.385396  0.048496  0.008175 -0.014790 -0.022965\n",
       "2  2022-10-26 07:34:00  19874.917201 -0.013561  0.046190  0.001044 -0.045146\n",
       "3  2022-10-26 07:36:00  18058.438190  0.048965 -0.026648 -0.072617 -0.045969\n",
       "4  2022-10-26 07:38:00  18187.872511  0.034729 -0.017012 -0.063248 -0.046235"
      ]
     },
     "execution_count": 2,
     "metadata": {},
     "output_type": "execute_result"
    }
   ],
   "source": [
    "# Import the csv-data to pandas dataframe (canonical name df)\n",
    "df = pd.read_csv(os.path.join(\"SpringPBData.csv\"))\n",
    "# Display the first lines of the df\n",
    "df.head()"
   ]
  },
  {
   "cell_type": "code",
   "execution_count": 3,
   "metadata": {},
   "outputs": [
    {
     "data": {
      "text/html": [
       "<div>\n",
       "<style scoped>\n",
       "    .dataframe tbody tr th:only-of-type {\n",
       "        vertical-align: middle;\n",
       "    }\n",
       "\n",
       "    .dataframe tbody tr th {\n",
       "        vertical-align: top;\n",
       "    }\n",
       "\n",
       "    .dataframe thead th {\n",
       "        text-align: right;\n",
       "    }\n",
       "</style>\n",
       "<table border=\"1\" class=\"dataframe\">\n",
       "  <thead>\n",
       "    <tr style=\"text-align: right;\">\n",
       "      <th></th>\n",
       "      <th>F</th>\n",
       "      <th>d</th>\n",
       "      <th>h1</th>\n",
       "      <th>h2</th>\n",
       "      <th>l</th>\n",
       "    </tr>\n",
       "    <tr>\n",
       "      <th>Time</th>\n",
       "      <th></th>\n",
       "      <th></th>\n",
       "      <th></th>\n",
       "      <th></th>\n",
       "      <th></th>\n",
       "    </tr>\n",
       "  </thead>\n",
       "  <tbody>\n",
       "    <tr>\n",
       "      <th>2022-10-26 07:30:00</th>\n",
       "      <td>18905.806965</td>\n",
       "      <td>0.005124</td>\n",
       "      <td>-0.047404</td>\n",
       "      <td>-0.031544</td>\n",
       "      <td>0.015860</td>\n",
       "    </tr>\n",
       "    <tr>\n",
       "      <th>2022-10-26 07:32:00</th>\n",
       "      <td>20026.385396</td>\n",
       "      <td>0.048496</td>\n",
       "      <td>0.008175</td>\n",
       "      <td>-0.014790</td>\n",
       "      <td>-0.022965</td>\n",
       "    </tr>\n",
       "    <tr>\n",
       "      <th>2022-10-26 07:34:00</th>\n",
       "      <td>19874.917201</td>\n",
       "      <td>-0.013561</td>\n",
       "      <td>0.046190</td>\n",
       "      <td>0.001044</td>\n",
       "      <td>-0.045146</td>\n",
       "    </tr>\n",
       "    <tr>\n",
       "      <th>2022-10-26 07:36:00</th>\n",
       "      <td>18058.438190</td>\n",
       "      <td>0.048965</td>\n",
       "      <td>-0.026648</td>\n",
       "      <td>-0.072617</td>\n",
       "      <td>-0.045969</td>\n",
       "    </tr>\n",
       "    <tr>\n",
       "      <th>2022-10-26 07:38:00</th>\n",
       "      <td>18187.872511</td>\n",
       "      <td>0.034729</td>\n",
       "      <td>-0.017012</td>\n",
       "      <td>-0.063248</td>\n",
       "      <td>-0.046235</td>\n",
       "    </tr>\n",
       "  </tbody>\n",
       "</table>\n",
       "</div>"
      ],
      "text/plain": [
       "                                F         d        h1        h2         l\n",
       "Time                                                                     \n",
       "2022-10-26 07:30:00  18905.806965  0.005124 -0.047404 -0.031544  0.015860\n",
       "2022-10-26 07:32:00  20026.385396  0.048496  0.008175 -0.014790 -0.022965\n",
       "2022-10-26 07:34:00  19874.917201 -0.013561  0.046190  0.001044 -0.045146\n",
       "2022-10-26 07:36:00  18058.438190  0.048965 -0.026648 -0.072617 -0.045969\n",
       "2022-10-26 07:38:00  18187.872511  0.034729 -0.017012 -0.063248 -0.046235"
      ]
     },
     "execution_count": 3,
     "metadata": {},
     "output_type": "execute_result"
    }
   ],
   "source": [
    "# Transform first column from string to datetimeindex\n",
    "df.set_index(pd.to_datetime(df[\"Time\"]), inplace = True)\n",
    "# Delete second ocurrence of time\n",
    "df.drop(\"Time\", axis = 1, inplace = True)\n",
    "df.head()"
   ]
  },
  {
   "cell_type": "markdown",
   "metadata": {},
   "source": [
    "---\n",
    "\n",
    "# Euer Bericht \"Mangelnde Federspeicherkraft an Lokomotive ABC-123 während Federspeicherprüfung\""
   ]
  },
  {
   "cell_type": "markdown",
   "metadata": {},
   "source": [
    "## Fragestellung"
   ]
  },
  {
   "cell_type": "markdown",
   "metadata": {},
   "source": [
    "## Analyse"
   ]
  },
  {
   "cell_type": "markdown",
   "metadata": {},
   "source": [
    "## Ergebnis"
   ]
  }
 ],
 "metadata": {
  "kernelspec": {
   "display_name": "Python 3",
   "language": "python",
   "name": "python3"
  },
  "language_info": {
   "codemirror_mode": {
    "name": "ipython",
    "version": 3
   },
   "file_extension": ".py",
   "mimetype": "text/x-python",
   "name": "python",
   "nbconvert_exporter": "python",
   "pygments_lexer": "ipython3",
   "version": "3.11.1"
  }
 },
 "nbformat": 4,
 "nbformat_minor": 2
}
